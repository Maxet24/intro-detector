{
 "cells": [
  {
   "cell_type": "code",
   "execution_count": null,
   "id": "e416cc30-324d-4c19-9653-775d480456c5",
   "metadata": {},
   "outputs": [],
   "source": [
    "from clipEmbedder import ClipEmbedder\n",
    "from videoItem import VideoItem\n",
    "from seriesManager import SeriesManager"
   ]
  },
  {
   "cell_type": "code",
   "execution_count": null,
   "id": "0863328f-dc28-493d-9943-477b349e1891",
   "metadata": {},
   "outputs": [],
   "source": [
    "embedder = ClipEmbedder()"
   ]
  },
  {
   "cell_type": "code",
   "execution_count": null,
   "id": "f696b3da-6e7d-42b2-b672-55df08fb2177",
   "metadata": {},
   "outputs": [],
   "source": [
    "from pathlib import Path\n",
    "\n",
    "series_manager = SeriesManager('unpaired', 'series', 'timestamps.json', embedder)\n",
    "folder = Path(r'data_train_short\\data_train_short')\n",
    "\n",
    "video_paths = list(folder.rglob(\"*.mp4\"))"
   ]
  },
  {
   "cell_type": "code",
   "execution_count": null,
   "id": "1b452887-c37d-4062-8777-fbc1ff920662",
   "metadata": {},
   "outputs": [],
   "source": [
    "for video_path in video_paths:\n",
    "    print(f\"Добавляется видео: {video_path}\")\n",
    "    video = VideoItem(str(video_path))\n",
    "    series_manager.add_video(video)\n"
   ]
  }
 ],
 "metadata": {
  "kernelspec": {
   "display_name": "Python 3 (ipykernel)",
   "language": "python",
   "name": "python3"
  },
  "language_info": {
   "codemirror_mode": {
    "name": "ipython",
    "version": 3
   },
   "file_extension": ".py",
   "mimetype": "text/x-python",
   "name": "python",
   "nbconvert_exporter": "python",
   "pygments_lexer": "ipython3",
   "version": "3.12.3"
  }
 },
 "nbformat": 4,
 "nbformat_minor": 5
}
